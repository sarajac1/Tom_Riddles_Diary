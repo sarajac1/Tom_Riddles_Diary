{
 "cells": [
  {
   "cell_type": "markdown",
   "source": [
    "#Tom Riddle's Diary Chatbot "
   ],
   "metadata": {
    "collapsed": false
   },
   "id": "e11dae8192330073"
  },
  {
   "cell_type": "code",
   "execution_count": 4,
   "id": "initial_id",
   "metadata": {
    "collapsed": true,
    "ExecuteTime": {
     "end_time": "2024-02-01T20:35:55.116157500Z",
     "start_time": "2024-02-01T20:35:51.044068Z"
    }
   },
   "outputs": [
    {
     "name": "stdout",
     "output_type": "stream",
     "text": [
      "None\n"
     ]
    }
   ],
   "source": [
    "#Importerar SpaCy \n",
    "import spacy\n",
    "#Ladda SpaCy modellen med engelska språkpaketet  \n",
    "nlp = spacy.load(\"en_core_web_lg\")\n",
    "\n",
    "#Funktion för att få användarens namn genom en prompt\n",
    "def get_name (prompt):\n",
    "    #Sparar värdet av användarens input i prompten\n",
    "    user_input = input(prompt)\n",
    "    #Returnerar ett Doc objekt av användarens inmatning \n",
    "    return nlp(user_input)\n",
    "\n",
    "#Funktion för att svara på användarens input av namn\n",
    "def respond_name(doc):\n",
    "    #Om input är en entitet av typen \"person\" så kommer personligt meddelande skrivas ut, annars kommer ett annat meddelande. \n",
    "    #Loopar genom de entiteter som finns i användarens inmatning \n",
    "    for ent in doc.ents:\n",
    "        # Understrecket innebär att programmet ger strängvärde istället för numeriskt värde på ent.label\n",
    "        if ent.label_ == \"PERSON\":\n",
    "            #Om entiteten/erna känns igen som namn så returneras ett trevligt meddelande \n",
    "            return f\"Hello {ent.text}. My name is Tom Riddle. How did you come by my app?\"\n",
    "        #Denna biten fungerar inte som den ska just nu. \n",
    "        #else: \n",
    "            #return \"I don't recognize that as a name. I can tell when people are lying to me.\"\n",
    "        \n",
    "def generate_response(user_input):\n",
    "    response = respond_name(user_input)\n",
    "    return response\n",
    "\n",
    "\n",
    "#Ber användaren skriva in sitt namn \n",
    "user_input = get_name(\"What is your name? \")\n",
    "\n",
    "response = generate_response(user_input)\n",
    "#Skriver ut ett svar till användaren \n",
    "print(response)\n",
    "\n"
   ]
  }
 ],
 "metadata": {
  "kernelspec": {
   "display_name": "Python 3",
   "language": "python",
   "name": "python3"
  },
  "language_info": {
   "codemirror_mode": {
    "name": "ipython",
    "version": 2
   },
   "file_extension": ".py",
   "mimetype": "text/x-python",
   "name": "python",
   "nbconvert_exporter": "python",
   "pygments_lexer": "ipython2",
   "version": "2.7.6"
  }
 },
 "nbformat": 4,
 "nbformat_minor": 5
}
