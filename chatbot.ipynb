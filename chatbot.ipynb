{
 "cells": [
  {
   "cell_type": "markdown",
   "source": [
    "#Tom Riddle's Diary Chatbot "
   ],
   "metadata": {
    "collapsed": false
   },
   "id": "e11dae8192330073"
  },
  {
   "cell_type": "code",
   "execution_count": null,
   "id": "initial_id",
   "metadata": {
    "collapsed": true
   },
   "outputs": [],
   "source": [
    "#Importerar SpaCy \n",
    "import spacy\n",
    "#Ladda SpaCy modellen med engelska språkpaketet  \n",
    "nlp = spacy.load(\"en_core_web_lg\")"
   ]
  }
 ],
 "metadata": {
  "kernelspec": {
   "display_name": "Python 3",
   "language": "python",
   "name": "python3"
  },
  "language_info": {
   "codemirror_mode": {
    "name": "ipython",
    "version": 2
   },
   "file_extension": ".py",
   "mimetype": "text/x-python",
   "name": "python",
   "nbconvert_exporter": "python",
   "pygments_lexer": "ipython2",
   "version": "2.7.6"
  }
 },
 "nbformat": 4,
 "nbformat_minor": 5
}
